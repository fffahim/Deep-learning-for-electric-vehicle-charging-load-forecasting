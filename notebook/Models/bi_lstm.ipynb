{
 "cells": [
  {
   "cell_type": "code",
   "execution_count": 1,
   "metadata": {},
   "outputs": [],
   "source": [
    "import torch\n",
    "import torch.nn as nn"
   ]
  },
  {
   "cell_type": "code",
   "execution_count": 6,
   "metadata": {},
   "outputs": [],
   "source": [
    "class Bi_LSTM(nn.Module):\n",
    "    def __init__(self, model_parameter):\n",
    "        super(Bi_LSTM, self).__init__()\n",
    "        self.input_size = model_parameter.input_size\n",
    "        self.hidden_size = model_parameter.hidden_size\n",
    "        self.output_size = model_parameter.output_size\n",
    "        self.future_step = model_parameter.future_step\n",
    "        self.batch_size = model_parameter.batch_size\n",
    "        self.lag_window = model_parameter.lag_window\n",
    "\n",
    "        self.lstm = nn.LSTM(input_size=self.input_size, hidden_size=self.hidden_size, batch_first=True, bidirectional=True)\n",
    "        self.lstm2 = nn.LSTM(input_size= 2 * self.hidden_size, hidden_size=self.hidden_size, batch_first=True, bidirectional=True)\n",
    "        self.linear = nn.Linear(2 * self.hidden_size * self.lag_window, self.future_step * self.output_size)\n",
    "        self.relu = nn.ReLU()\n",
    "        self.flatten = nn.Flatten()\n",
    "\n",
    "    def forward(self, x):\n",
    "        lstm, (_,_) = self.lstm(x)\n",
    "        #lstm, (_,_) = self.lstm2(lstm)\n",
    "        lstm = self.flatten(lstm)\n",
    "        final = self.linear(lstm)\n",
    "        final = final.view(self.batch_size, self.future_step, -1)\n",
    "        return self.relu(final)"
   ]
  },
  {
   "cell_type": "code",
   "execution_count": null,
   "metadata": {},
   "outputs": [],
   "source": []
  }
 ],
 "metadata": {
  "kernelspec": {
   "display_name": "base",
   "language": "python",
   "name": "python3"
  },
  "language_info": {
   "codemirror_mode": {
    "name": "ipython",
    "version": 3
   },
   "file_extension": ".py",
   "mimetype": "text/x-python",
   "name": "python",
   "nbconvert_exporter": "python",
   "pygments_lexer": "ipython3",
   "version": "3.9.18"
  }
 },
 "nbformat": 4,
 "nbformat_minor": 2
}
